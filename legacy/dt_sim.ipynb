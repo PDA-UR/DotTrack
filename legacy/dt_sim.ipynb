{
 "cells": [
  {
   "cell_type": "code",
   "execution_count": 1,
   "metadata": {},
   "outputs": [],
   "source": [
    "from PIL import Image, ImageDraw"
   ]
  },
  {
   "cell_type": "code",
   "execution_count": 2,
   "metadata": {},
   "outputs": [],
   "source": [
    "def generate_dbt(w,h,a,b):\n",
    "    if w == 256 and h == 256 and a == 4 and b == 4:\n",
    "        generate_4x4_dbt()\n",
    "    else:\n",
    "        raise ValueError('Dimensions not supported yet. Only 256X256/4X4 generation is currently possible.')\n",
    "\n",
    "\n",
    "def generate_4x4_dbt():\n",
    "    from torus import Torus\n",
    "\n",
    "    values = [\n",
    "        [0,0,1,1,0,0,1,0,0,0,1,1,0,1,1,1],\n",
    "        [0,0,1,1,0,0,0,1,0,1,1,0,0,0,0,1],\n",
    "        [0,0,1,1,0,1,1,1,0,0,1,1,0,0,1,0],\n",
    "        [1,1,0,0,1,0,1,1,1,0,0,1,1,0,1,1],\n",
    "    ]\n",
    "    m, n = 3, 2\n",
    "    torus = Torus(values, m, n, 'storage.txt')\n",
    "    torus.transpose()\n",
    "    torus.make()\n",
    "    torus.make()\n",
    "    torus.transpose()\n",
    "    torus.make()\n",
    "    torus.save('dbt_256X256_4X4.png')"
   ]
  },
  {
   "cell_type": "code",
   "execution_count": 3,
   "metadata": {},
   "outputs": [],
   "source": [
    "# for testing the recognition pipeline\n",
    "def get_subsection_from_dbt(x,y,w,h,rot=0,scale=1):\n",
    "    pass"
   ]
  },
  {
   "cell_type": "markdown",
   "metadata": {},
   "source": [
    "# Image Analysis"
   ]
  },
  {
   "cell_type": "code",
   "execution_count": 4,
   "metadata": {},
   "outputs": [],
   "source": [
    "def preprocess_image(img):\n",
    "    # sharpen\n",
    "    # threshold\n",
    "    pass"
   ]
  },
  {
   "cell_type": "code",
   "execution_count": 5,
   "metadata": {},
   "outputs": [],
   "source": [
    "def unrotate_image(img):\n",
    "    pass"
   ]
  },
  {
   "cell_type": "code",
   "execution_count": 6,
   "metadata": {},
   "outputs": [],
   "source": [
    "def remove_helper_lines(img):\n",
    "    pass"
   ]
  },
  {
   "cell_type": "code",
   "execution_count": 7,
   "metadata": {},
   "outputs": [],
   "source": [
    "def find_sequences_in_dbt(img, dbt):\n",
    "    pass # hard!"
   ]
  },
  {
   "cell_type": "code",
   "execution_count": null,
   "metadata": {},
   "outputs": [],
   "source": [
    "# Testing:\n",
    "# generate multiple test images\n",
    "# run pipeline\n",
    "# compare to truth\n",
    "\n",
    "# Testing 2:\n",
    "# test with real images\n"
   ]
  }
 ],
 "metadata": {
  "kernelspec": {
   "display_name": "Python 3",
   "language": "python",
   "name": "python3"
  },
  "language_info": {
   "codemirror_mode": {
    "name": "ipython",
    "version": 3
   },
   "file_extension": ".py",
   "mimetype": "text/x-python",
   "name": "python",
   "nbconvert_exporter": "python",
   "pygments_lexer": "ipython3",
   "version": "3.6.7"
  }
 },
 "nbformat": 4,
 "nbformat_minor": 2
}
